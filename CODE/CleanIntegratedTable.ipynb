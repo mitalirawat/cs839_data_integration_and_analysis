{
 "cells": [
  {
   "cell_type": "code",
   "execution_count": 1,
   "metadata": {
    "collapsed": true
   },
   "outputs": [],
   "source": [
    "import pandas as pd\n",
    "from sklearn.preprocessing import scale\n",
    "dt = pd.read_csv('../DATA/integrated_table.csv')"
   ]
  },
  {
   "cell_type": "code",
   "execution_count": 2,
   "metadata": {},
   "outputs": [
    {
     "data": {
      "text/plain": [
       "(Index(['id', 'title', 'year', 'mpaa', 'runtime', 'genres', 'director', 'stars',\n",
       "        'gross'],\n",
       "       dtype='object'), 2674)"
      ]
     },
     "execution_count": 2,
     "metadata": {},
     "output_type": "execute_result"
    }
   ],
   "source": [
    "col = dt.columns\n",
    "N = len(dt)\n",
    "col,N"
   ]
  },
  {
   "cell_type": "code",
   "execution_count": 3,
   "metadata": {},
   "outputs": [
    {
     "data": {
      "text/plain": [
       "['PG-13',\n",
       " 'R',\n",
       " 'Approved',\n",
       " 'PG',\n",
       " 'M/PG',\n",
       " 'G',\n",
       " '-1',\n",
       " 'NC-17',\n",
       " 'GP',\n",
       " 'M',\n",
       " 'Passed',\n",
       " 'TV-14',\n",
       " 'TV-MA',\n",
       " 'X',\n",
       " 'TV-G']"
      ]
     },
     "execution_count": 3,
     "metadata": {},
     "output_type": "execute_result"
    }
   ],
   "source": [
    "dt.mpaa = dt.mpaa.map(lambda x: '-1' if x in ['-1','Not Rated','Unrated'] else x)\n",
    "allMpaa = list(dt.mpaa.unique())\n",
    "allMpaa"
   ]
  },
  {
   "cell_type": "code",
   "execution_count": 4,
   "metadata": {
    "collapsed": true
   },
   "outputs": [],
   "source": [
    "mpaaVec = pd.concat([dt.mpaa.map(lambda x: 1 if mp == x else 0).rename('M_'+mp) for mp in allMpaa],axis = 1)"
   ]
  },
  {
   "cell_type": "code",
   "execution_count": 5,
   "metadata": {
    "collapsed": true
   },
   "outputs": [],
   "source": [
    "gnrs = dt.genres.map(lambda x: list(map(lambda s:s.strip(),x.lower().split(','))))\n",
    "allGenres = list(set([x for t in gnrs for x in t]))"
   ]
  },
  {
   "cell_type": "code",
   "execution_count": 6,
   "metadata": {
    "collapsed": true
   },
   "outputs": [],
   "source": [
    "genreVec =pd.concat([gnrs.map(lambda x: 1 if genre in x else 0).rename('G_'+genre) for genre in allGenres],axis = 1)"
   ]
  },
  {
   "cell_type": "code",
   "execution_count": 7,
   "metadata": {
    "collapsed": true
   },
   "outputs": [],
   "source": [
    "dt = dt.join(genreVec)\n",
    "dt = dt.join(mpaaVec)"
   ]
  },
  {
   "cell_type": "code",
   "execution_count": 8,
   "metadata": {
    "collapsed": true
   },
   "outputs": [],
   "source": [
    "dt.runtime = dt.runtime.map(lambda x: int(x.split()[0].strip()))"
   ]
  },
  {
   "cell_type": "code",
   "execution_count": 9,
   "metadata": {
    "collapsed": true
   },
   "outputs": [],
   "source": [
    "dt.gross = dt.gross.map(lambda x: float(x[1:]))"
   ]
  },
  {
   "cell_type": "code",
   "execution_count": 10,
   "metadata": {
    "collapsed": true
   },
   "outputs": [],
   "source": [
    "dt = dt.drop(columns =['id','title','director','stars','genres','mpaa'])\n"
   ]
  },
  {
   "cell_type": "code",
   "execution_count": 11,
   "metadata": {},
   "outputs": [
    {
     "name": "stderr",
     "output_type": "stream",
     "text": [
      "C:\\Users\\Yudhi\\Anaconda\\lib\\site-packages\\sklearn\\preprocessing\\data.py:164: UserWarning: Numerical issues were encountered when centering the data and might not be solved. Dataset may contain too large values. You may need to prescale your features.\n",
      "  warnings.warn(\"Numerical issues were encountered \"\n"
     ]
    }
   ],
   "source": [
    "normDt = pd.DataFrame(scale(dt), columns = dt.columns)\n",
    "normDt.to_csv('../DATA/cleaned_and_normalized_integrated_table.csv',index = False)"
   ]
  },
  {
   "cell_type": "code",
   "execution_count": null,
   "metadata": {},
   "outputs": [],
   "source": []
  }
 ],
 "metadata": {
  "kernelspec": {
   "display_name": "Python 2",
   "language": "python",
   "name": "python2"
  },
  "language_info": {
   "codemirror_mode": {
    "name": "ipython",
    "version": 2
   },
   "file_extension": ".py",
   "mimetype": "text/x-python",
   "name": "python",
   "nbconvert_exporter": "python",
   "pygments_lexer": "ipython2",
   "version": "2.7.14"
  }
 },
 "nbformat": 4,
 "nbformat_minor": 2
}
