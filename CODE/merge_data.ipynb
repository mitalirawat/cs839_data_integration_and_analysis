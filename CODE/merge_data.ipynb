{
 "cells": [
  {
   "cell_type": "code",
   "execution_count": 5,
   "metadata": {},
   "outputs": [],
   "source": [
    "import sys\n",
    "import pandas as pd"
   ]
  },
  {
   "cell_type": "code",
   "execution_count": 7,
   "metadata": {},
   "outputs": [
    {
     "data": {
      "text/html": [
       "<div>\n",
       "<style scoped>\n",
       "    .dataframe tbody tr th:only-of-type {\n",
       "        vertical-align: middle;\n",
       "    }\n",
       "\n",
       "    .dataframe tbody tr th {\n",
       "        vertical-align: top;\n",
       "    }\n",
       "\n",
       "    .dataframe thead th {\n",
       "        text-align: right;\n",
       "    }\n",
       "</style>\n",
       "<table border=\"1\" class=\"dataframe\">\n",
       "  <thead>\n",
       "    <tr style=\"text-align: right;\">\n",
       "      <th></th>\n",
       "      <th>ltable_id</th>\n",
       "      <th>ltable_title</th>\n",
       "      <th>rtable_id</th>\n",
       "      <th>rtable_title</th>\n",
       "    </tr>\n",
       "  </thead>\n",
       "  <tbody>\n",
       "    <tr>\n",
       "      <th>0</th>\n",
       "      <td>1757</td>\n",
       "      <td>Hamlet</td>\n",
       "      <td>11</td>\n",
       "      <td>Hamlet</td>\n",
       "    </tr>\n",
       "    <tr>\n",
       "      <th>1</th>\n",
       "      <td>3547</td>\n",
       "      <td>Home for the Holidays</td>\n",
       "      <td>22</td>\n",
       "      <td>Home for the Holidays</td>\n",
       "    </tr>\n",
       "    <tr>\n",
       "      <th>2</th>\n",
       "      <td>502</td>\n",
       "      <td>Hot Fuzz</td>\n",
       "      <td>36</td>\n",
       "      <td>Hot Fuzz</td>\n",
       "    </tr>\n",
       "    <tr>\n",
       "      <th>3</th>\n",
       "      <td>3688</td>\n",
       "      <td>Drop Dead Gorgeous</td>\n",
       "      <td>57</td>\n",
       "      <td>Drop Dead Gorgeous</td>\n",
       "    </tr>\n",
       "    <tr>\n",
       "      <th>4</th>\n",
       "      <td>2558</td>\n",
       "      <td>The Butterfly Effect</td>\n",
       "      <td>123</td>\n",
       "      <td>The Butterfly Effect</td>\n",
       "    </tr>\n",
       "  </tbody>\n",
       "</table>\n",
       "</div>"
      ],
      "text/plain": [
       "   ltable_id           ltable_title  rtable_id           rtable_title\n",
       "0       1757                 Hamlet         11                 Hamlet\n",
       "1       3547  Home for the Holidays         22  Home for the Holidays\n",
       "2        502               Hot Fuzz         36               Hot Fuzz\n",
       "3       3688     Drop Dead Gorgeous         57     Drop Dead Gorgeous\n",
       "4       2558   The Butterfly Effect        123   The Butterfly Effect"
      ]
     },
     "execution_count": 7,
     "metadata": {},
     "output_type": "execute_result"
    }
   ],
   "source": [
    "# Get the paths\n",
    "path_A = '../DATA/imdb3_neg_nan.csv'\n",
    "path_B = '../DATA/thenumbers3_neg_nan.csv'\n",
    "path_C = '../DATA/MatchPredctionsOnAllTuplePairs.csv'\n",
    "A = pd.read_csv(path_A)\n",
    "B = pd.read_csv(path_B)\n",
    "Matches = pd.read_csv(path_C)\n",
    "Matches.head()"
   ]
  },
  {
   "cell_type": "code",
   "execution_count": null,
   "metadata": {},
   "outputs": [],
   "source": [
    "def merge_title(title1, title2):\n",
    "    #take the longer title\n",
    "    l1 = len(title1)\n",
    "    l2= len(title2)\n",
    "    res = title1 if l1>l2 else title2\n",
    "    return res"
   ]
  },
  {
   "cell_type": "code",
   "execution_count": null,
   "metadata": {},
   "outputs": [],
   "source": [
    "def merge_year(year1, year2):\n",
    "    #if value form B exists, take it else from A\n",
    "    if year2 != \"-1\":\n",
    "        return year2\n",
    "    return year1"
   ]
  },
  {
   "cell_type": "code",
   "execution_count": null,
   "metadata": {},
   "outputs": [],
   "source": [
    "def merge_mpaa(mpaa1,mpaa2):\n",
    "    return mpaa1 if mpaa1 != \"Not Rated\" and mpaa1 != \"-1\" else mpaa2"
   ]
  },
  {
   "cell_type": "code",
   "execution_count": null,
   "metadata": {},
   "outputs": [],
   "source": [
    "def merge_runtime(rt1,rt2):\n",
    "    regex = re.compile('[^0-9]')\n",
    "    rt1 = regex.sub('',rt1)\n",
    "    rt2 = regex.sub('',rt2)\n",
    "    rt1 = int(rt1)\n",
    "    rt2 = int(rt2)\n",
    "    rt = rt1 if rt1>rt2 else rt2\n",
    "    return str(rt)+\" min\""
   ]
  },
  {
   "cell_type": "code",
   "execution_count": null,
   "metadata": {},
   "outputs": [],
   "source": [
    "def split_and_union(g1,g2):\n",
    "    g1 = g1.lower()\n",
    "    g2= g2.lower()\n",
    "    g1 = g1.split(\",\")\n",
    "    g2= g2.split(\",\")\n",
    "    final_list = g1+g2\n",
    "    final_list = set(final_list)\n",
    "    return final_list.join(\",\")"
   ]
  },
  {
   "cell_type": "code",
   "execution_count": null,
   "metadata": {},
   "outputs": [],
   "source": [
    "def merge_genres(g1,g2):\n",
    "    if g1==\"-1\": return g2\n",
    "    if g2==\"-1\": return g1\n",
    "    return split_and_union(g1,g2)\n",
    "    "
   ]
  },
  {
   "cell_type": "code",
   "execution_count": null,
   "metadata": {},
   "outputs": [],
   "source": [
    "def merge_director_name(dir1,dir2):\n",
    "    if dir1==\"-1\": return dir2\n",
    "    if dir2==\"-1\": return dir1\n",
    "    return split_and_union(dir1,dir2)"
   ]
  },
  {
   "cell_type": "code",
   "execution_count": null,
   "metadata": {},
   "outputs": [],
   "source": [
    "def merge_stars(stars1, stars2):\n",
    "    if stars1==\"-1\": return stars2\n",
    "    if stars2==\"-1\": return stars1\n",
    "    return split_and_union(stars1,stars2)"
   ]
  },
  {
   "cell_type": "code",
   "execution_count": null,
   "metadata": {},
   "outputs": [],
   "source": [
    "def merge_gross():\n",
    "    "
   ]
  }
 ],
 "metadata": {
  "kernelspec": {
   "display_name": "Python 2",
   "language": "python",
   "name": "python2"
  },
  "language_info": {
   "codemirror_mode": {
    "name": "ipython",
    "version": 2
   },
   "file_extension": ".py",
   "mimetype": "text/x-python",
   "name": "python",
   "nbconvert_exporter": "python",
   "pygments_lexer": "ipython2",
   "version": "2.7.13"
  }
 },
 "nbformat": 4,
 "nbformat_minor": 2
}
