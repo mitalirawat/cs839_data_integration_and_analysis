{
 "cells": [
  {
   "cell_type": "code",
   "execution_count": 1,
   "metadata": {},
   "outputs": [],
   "source": [
    "import sys\n",
    "import string\n",
    "import re\n",
    "import math\n",
    "import pandas as pd"
   ]
  },
  {
   "cell_type": "code",
   "execution_count": 2,
   "metadata": {},
   "outputs": [
    {
     "data": {
      "text/html": [
       "<div>\n",
       "<style scoped>\n",
       "    .dataframe tbody tr th:only-of-type {\n",
       "        vertical-align: middle;\n",
       "    }\n",
       "\n",
       "    .dataframe tbody tr th {\n",
       "        vertical-align: top;\n",
       "    }\n",
       "\n",
       "    .dataframe thead th {\n",
       "        text-align: right;\n",
       "    }\n",
       "</style>\n",
       "<table border=\"1\" class=\"dataframe\">\n",
       "  <thead>\n",
       "    <tr style=\"text-align: right;\">\n",
       "      <th></th>\n",
       "      <th>ltable_id</th>\n",
       "      <th>ltable_title</th>\n",
       "      <th>rtable_id</th>\n",
       "      <th>rtable_title</th>\n",
       "    </tr>\n",
       "  </thead>\n",
       "  <tbody>\n",
       "    <tr>\n",
       "      <th>0</th>\n",
       "      <td>1757</td>\n",
       "      <td>Hamlet</td>\n",
       "      <td>11</td>\n",
       "      <td>Hamlet</td>\n",
       "    </tr>\n",
       "    <tr>\n",
       "      <th>1</th>\n",
       "      <td>3547</td>\n",
       "      <td>Home for the Holidays</td>\n",
       "      <td>22</td>\n",
       "      <td>Home for the Holidays</td>\n",
       "    </tr>\n",
       "    <tr>\n",
       "      <th>2</th>\n",
       "      <td>502</td>\n",
       "      <td>Hot Fuzz</td>\n",
       "      <td>36</td>\n",
       "      <td>Hot Fuzz</td>\n",
       "    </tr>\n",
       "    <tr>\n",
       "      <th>3</th>\n",
       "      <td>3688</td>\n",
       "      <td>Drop Dead Gorgeous</td>\n",
       "      <td>57</td>\n",
       "      <td>Drop Dead Gorgeous</td>\n",
       "    </tr>\n",
       "    <tr>\n",
       "      <th>4</th>\n",
       "      <td>3517</td>\n",
       "      <td>Bye Bye Birdie</td>\n",
       "      <td>98</td>\n",
       "      <td>Bye Bye Birdie</td>\n",
       "    </tr>\n",
       "  </tbody>\n",
       "</table>\n",
       "</div>"
      ],
      "text/plain": [
       "   ltable_id           ltable_title  rtable_id           rtable_title\n",
       "0       1757                 Hamlet         11                 Hamlet\n",
       "1       3547  Home for the Holidays         22  Home for the Holidays\n",
       "2        502               Hot Fuzz         36               Hot Fuzz\n",
       "3       3688     Drop Dead Gorgeous         57     Drop Dead Gorgeous\n",
       "4       3517         Bye Bye Birdie         98         Bye Bye Birdie"
      ]
     },
     "execution_count": 2,
     "metadata": {},
     "output_type": "execute_result"
    }
   ],
   "source": [
    "# Get the paths\n",
    "path_A = '../DATA/imdb3_neg_nan.csv'\n",
    "path_B = '../DATA/thenumbers3_neg_nan.csv'\n",
    "path_C = '../DATA/MatchPredctionsOnAllTuplePairs.csv'\n",
    "A = pd.read_csv(path_A)\n",
    "B = pd.read_csv(path_B)\n",
    "Matches = pd.read_csv(path_C)\n",
    "Matches.head()"
   ]
  },
  {
   "cell_type": "code",
   "execution_count": 3,
   "metadata": {},
   "outputs": [],
   "source": [
    "def merge_title(title1, title2):\n",
    "    #take the longer title\n",
    "    title1= title1.item()\n",
    "    title2=title2.item()\n",
    "    l1 = len(title1)\n",
    "    l2= len(title2)\n",
    "    res = title1 if l1>l2 else title2\n",
    "    return res"
   ]
  },
  {
   "cell_type": "code",
   "execution_count": 4,
   "metadata": {},
   "outputs": [],
   "source": [
    "def merge_year(year1, year2):\n",
    "    #if value form B exists, take it else from A\n",
    "    if year2.item() != -1:\n",
    "        return year2.item()\n",
    "    return year1.item()"
   ]
  },
  {
   "cell_type": "code",
   "execution_count": 5,
   "metadata": {},
   "outputs": [],
   "source": [
    "def merge_mpaa(mpaa1,mpaa2):\n",
    "    mpaa1=mpaa1.item()\n",
    "    mpaa2=mpaa2.item()\n",
    "    return mpaa1 if mpaa1 != \"Not Rated\" and mpaa1 != \"-1\" else mpaa2"
   ]
  },
  {
   "cell_type": "code",
   "execution_count": 6,
   "metadata": {},
   "outputs": [],
   "source": [
    "def merge_runtime(rt1,rt2):\n",
    "    rt1=rt1.item()\n",
    "    rt2=rt2.item()\n",
    "    regex = re.compile('[^0-9]')\n",
    "    a=regex.sub('',rt1)\n",
    "    b=regex.sub('',rt2)\n",
    "    rt1 = int(a)\n",
    "    rt2 = int(b)\n",
    "    rt = rt1 if rt1>rt2 else rt2\n",
    "    return str(rt)+\" min\""
   ]
  },
  {
   "cell_type": "code",
   "execution_count": 7,
   "metadata": {},
   "outputs": [],
   "source": [
    "def split_and_union(g1,g2):\n",
    "    g1 = g1.lower()\n",
    "    g2= g2.lower()\n",
    "    g1 = g1.split(\",\")\n",
    "    g2= g2.split(\",\")\n",
    "    final_list = g1+g2\n",
    "    final_list = set(final_list)\n",
    "    \n",
    "    return ','.join(final_list)"
   ]
  },
  {
   "cell_type": "code",
   "execution_count": 8,
   "metadata": {},
   "outputs": [],
   "source": [
    "def merge_genres(g1,g2):\n",
    "    g1=g1.item()\n",
    "    g2=g2.item()\n",
    "    if g1==\"-1\": return g2\n",
    "    if g2==\"-1\": return g1\n",
    "    return split_and_union(g1,g2)\n",
    "    "
   ]
  },
  {
   "cell_type": "code",
   "execution_count": 9,
   "metadata": {},
   "outputs": [],
   "source": [
    "def merge_director_name(dir1,dir2):\n",
    "    dir1=dir1.item()\n",
    "    dir2=dir2.item()\n",
    "    if dir1==\"-1\": return dir2\n",
    "    if dir2==\"-1\": return dir1\n",
    "    return split_and_union(dir1,dir2)"
   ]
  },
  {
   "cell_type": "code",
   "execution_count": 10,
   "metadata": {},
   "outputs": [],
   "source": [
    "def merge_stars(stars1, stars2):\n",
    "    stars1=stars1.item()\n",
    "    stars2=stars2.item()\n",
    "    if stars1==\"-1\": return stars2\n",
    "    if stars2==\"-1\": return stars1\n",
    "    return split_and_union(stars1,stars2)"
   ]
  },
  {
   "cell_type": "code",
   "execution_count": 11,
   "metadata": {},
   "outputs": [],
   "source": [
    "def merge_gross(grossL, grossR):\n",
    "    grossL=grossL.item()\n",
    "    grossR=grossR.item()\n",
    "    #remove the '$' or any other special character from gross value of right table-\n",
    "    #is of the form \"$1234,123\"\n",
    "    if grossR == \"-1\" and grossL == \"-1\":\n",
    "        return grossL\n",
    "    grossRint=grossLint=0\n",
    "    if grossR != \"-1\":\n",
    "        grossclean2 = ''.join(ch for ch in grossR if ch in string.digits)\n",
    "        grossRint = int(grossclean2)\n",
    "    #grossL is of the form \"$4.4M\"\n",
    "    if grossL != \"-1\":\n",
    "        dictL={'M':1000000,'B':1000000000,'T':math.pow(10,12)}\n",
    "        grossL.replace(\" \",\"\")\n",
    "        if grossL[-1] in dictL:\n",
    "               multfact=dictL[grossL[-1]]\n",
    "        grossclean1 = ''.join(ch for ch in grossL if ch in string.digits)\n",
    "        grossLint = float(grossclean1)\n",
    "        grossLint *= multfact\n",
    "    f = grossLint if grossLint>grossRint else grossRint\n",
    "    return \"$\"+str(f)\n",
    "    "
   ]
  },
  {
   "cell_type": "code",
   "execution_count": 12,
   "metadata": {},
   "outputs": [],
   "source": [
    "def combine(lt,rt):\n",
    "    \n",
    "    a = merge_title(lt.title,rt.title)\n",
    "    b = merge_year(lt.year,rt.year)\n",
    "    c=merge_mpaa(lt.mpaa,rt.mpaa)\n",
    "    d=merge_runtime(lt.runtime,rt.runtime)\n",
    "    e=merge_genres(lt.genres,rt.genres)\n",
    "    f=merge_director_name(lt.director,rt.director)\n",
    "    g=merge_stars(lt.stars,rt.stars)\n",
    "    h=merge_gross(lt.gross,rt.gross)\n",
    "    return (lt.id.item(),a,b,c,d,e,f,g,h)"
   ]
  },
  {
   "cell_type": "code",
   "execution_count": 13,
   "metadata": {},
   "outputs": [],
   "source": [
    "#pick each tuple from '../DATA/MatchPredctionsOnAllTuplePairs.csv' and take out corresponding\n",
    "#tuples from A and B\n",
    "finalist=[]\n",
    "for row in Matches.itertuples():\n",
    "    #print(row)\n",
    "    lid = row.ltable_id\n",
    "    rid = row.rtable_id\n",
    "    ltup = A.loc[(A[\"id\"]==lid)]\n",
    "    rtup = B.loc[(B[\"id\"]==rid)]\n",
    "    tup = combine(ltup,rtup)\n",
    "    finalist.append(tup)\n",
    "df = pd.DataFrame(finalist, columns=['id', 'title', 'year', 'mpaa','runtime','genres','director','stars','gross'])\n",
    "df.head() \n",
    "df.to_csv('../DATA/integrated_table.csv', index=False)\n",
    "    "
   ]
  },
  {
   "cell_type": "code",
   "execution_count": null,
   "metadata": {},
   "outputs": [],
   "source": []
  },
  {
   "cell_type": "code",
   "execution_count": null,
   "metadata": {},
   "outputs": [],
   "source": []
  },
  {
   "cell_type": "code",
   "execution_count": null,
   "metadata": {},
   "outputs": [],
   "source": []
  }
 ],
 "metadata": {
  "kernelspec": {
   "display_name": "Python 2",
   "language": "python",
   "name": "python2"
  },
  "language_info": {
   "codemirror_mode": {
    "name": "ipython",
    "version": 2
   },
   "file_extension": ".py",
   "mimetype": "text/x-python",
   "name": "python",
   "nbconvert_exporter": "python",
   "pygments_lexer": "ipython2",
   "version": "2.7.14"
  }
 },
 "nbformat": 4,
 "nbformat_minor": 2
}
