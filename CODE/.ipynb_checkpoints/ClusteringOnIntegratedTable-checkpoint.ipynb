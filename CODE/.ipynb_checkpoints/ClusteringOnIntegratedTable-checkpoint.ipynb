{
 "cells": [
  {
   "cell_type": "code",
   "execution_count": 1,
   "metadata": {},
   "outputs": [],
   "source": [
    "import pandas as pd\n",
    "import matplotlib.pyplot as plt\n",
    "from sklearn.decomposition import PCA\n",
    "from sklearn.cluster import KMeans\n",
    "\n",
    "\n",
    "dt1 = pd.read_csv('../DATA/cleaned_and_normalized_integrated_table.csv')\n",
    "dt2 = pd.read_csv('../DATA/cleaned_integrated_table.csv')"
   ]
  },
  {
   "cell_type": "code",
   "execution_count": 2,
   "metadata": {},
   "outputs": [],
   "source": [
    "def PCA_KMeans(pca_count=0,kmean_count=20):\n",
    "    def f(dt):\n",
    "        if pca_count>0:\n",
    "            X = PCA(n_components=pca_count).fit_transform(dt)\n",
    "        else:\n",
    "            X=dt\n",
    "        return KMeans(n_clusters=kmean_count).fit_predict(X)\n",
    "    return f"
   ]
  },
  {
   "cell_type": "code",
   "execution_count": 3,
   "metadata": {},
   "outputs": [],
   "source": [
    "genres = [c for c in dt2.columns if ('G_' in c and '/' not in c)]\n",
    "rats = [m for m in dt2.columns if ('M_' in m and '-1' not in m)]"
   ]
  },
  {
   "cell_type": "code",
   "execution_count": 4,
   "metadata": {},
   "outputs": [],
   "source": [
    "counts_g = [dt2[c].sum() for c in genres]\n",
    "gross_g = [dt2[dt2[c]==1].gross.mean() for c in genres]\n",
    "genres = list(map(lambda x: x[2:8], genres))\n",
    "counts_m = [dt2[c].sum() for c in rats]\n",
    "gross_m = [dt2[dt2[c]==1].gross.mean() for c in rats]\n",
    "rats = list(map(lambda x: x[2:8], rats))"
   ]
  },
  {
   "cell_type": "code",
   "execution_count": 5,
   "metadata": {},
   "outputs": [],
   "source": [
    "from matplotlib import pyplot as plt\n",
    "f1 = plt.figure(1,figsize=(18,6))\n",
    "#plt.subplot(2,2,1)\n",
    "plt.bar(genres,counts_g)\n",
    "plt.title('Counts of movies in various genres')\n",
    "f2 = plt.figure(2,figsize=(10,6))\n",
    "#plt.subplot(2,2,2)\n",
    "plt.bar(rats,counts_m)\n",
    "plt.title('Counts of movies in various MPAA classes')\n",
    "f3 = plt.figure(3,figsize=(18,6))\n",
    "#plt.subplot(2,2,3)\n",
    "plt.bar(genres,gross_g)\n",
    "plt.title('Average revenue (in Millons of USD) of movies in various genres')\n",
    "f4 = plt.figure(4,figsize=(10,6))\n",
    "#plt.subplot(2,2,4)\n",
    "plt.bar(rats,gross_m)\n",
    "plt.title('Average revenue (in Millons of USD) of movies in various MPAA classes')\n",
    "f1.savefig('../DATA/f1.png')\n",
    "f2.savefig('../DATA/f2.png')\n",
    "f3.savefig('../DATA/f3.png')\n",
    "f4.savefig('../DATA/f4.png')"
   ]
  }
 ],
 "metadata": {
  "kernelspec": {
   "display_name": "Python 3",
   "language": "python",
   "name": "python3"
  },
  "language_info": {
   "codemirror_mode": {
    "name": "ipython",
    "version": 3
   },
   "file_extension": ".py",
   "mimetype": "text/x-python",
   "name": "python",
   "nbconvert_exporter": "python",
   "pygments_lexer": "ipython3",
   "version": "3.6.1"
  }
 },
 "nbformat": 4,
 "nbformat_minor": 2
}
