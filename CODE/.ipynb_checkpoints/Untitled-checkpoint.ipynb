{
 "cells": [
  {
   "cell_type": "code",
   "execution_count": null,
   "metadata": {
    "collapsed": true
   },
   "outputs": [],
   "source": [
    "# Get the paths\n",
    "path_A = '../DATA/imdb3_neg_nan.csv'\n",
    "path_B = '../DATA/thenumbers3_neg_nan.csv'\n",
    "A = em.read_csv_metadata(path_A, key='id')\n",
    "B = em.read_csv_metadata(path_B, key='id')\n",
    "G = em.read_csv_metadata('../DATA/G.csv', \n",
    "                         key='_id',\n",
    "                         ltable=A, rtable=B, \n",
    "                         fk_ltable='ltable_id', fk_rtable='rtable_id')\n",
    "rf = em.RFMatcher(name='RF', random_state=0)\n",
    "feature_table = em.get_features_for_matching(A, B,\n",
    "                             validate_inferred_attr_types=False)\n",
    "H = em.extract_feature_vecs(G, \n",
    "                            feature_table=feature_table, \n",
    "                            attrs_after='gold',\n",
    "                            show_progress=False)\n",
    "rf.fit(table=H, #the entire development set\n",
    "       exclude_attrs=['_id', 'ltable_id', 'rtable_id', 'gold'], \n",
    "       target_attr='gold')\n",
    "#convert C4 to features\n",
    "CF = em.extract_feature_vecs(C4, \n",
    "                            feature_table=feature_table, \n",
    "                            attrs_after='gold',\n",
    "                            show_progress=False)\n",
    "#apply to C4\n",
    "predictions = rf.predict(table=CF,#The entire evaluation set\n",
    "                         exclude_attrs=['_id', 'ltable_id', 'rtable_id', 'gold'], \n",
    "              append=True, target_attr='predicted', inplace=False)\n",
    "#Save matching and non matching pairs"
   ]
  }
 ],
 "metadata": {
  "kernelspec": {
   "display_name": "Python 2",
   "language": "python",
   "name": "python2"
  },
  "language_info": {
   "codemirror_mode": {
    "name": "ipython",
    "version": 2
   },
   "file_extension": ".py",
   "mimetype": "text/x-python",
   "name": "python",
   "nbconvert_exporter": "python",
   "pygments_lexer": "ipython2",
   "version": "2.7.13"
  }
 },
 "nbformat": 4,
 "nbformat_minor": 2
}
