{
 "cells": [
  {
   "cell_type": "code",
   "execution_count": 1,
   "metadata": {
    "collapsed": true
   },
   "outputs": [],
   "source": [
    "import sys"
   ]
  },
  {
   "cell_type": "code",
   "execution_count": 2,
   "metadata": {
    "collapsed": true
   },
   "outputs": [],
   "source": [
    "sys.path.append('/Users/pradap/Documents/Research/Python-Package/anhaid/magellan/')"
   ]
  },
  {
   "cell_type": "code",
   "execution_count": 3,
   "metadata": {
    "collapsed": true
   },
   "outputs": [],
   "source": [
    "import magellan as mg\n",
    "import magellan.catalog.catalog_manager as cm"
   ]
  },
  {
   "cell_type": "code",
   "execution_count": 4,
   "metadata": {
    "collapsed": false
   },
   "outputs": [],
   "source": [
    "import os\n",
    "datasets_path = os.sep.join([mg.get_install_path(), 'datasets', 'test_datasets'])\n",
    "path_a = os.sep.join([datasets_path, 'A.csv'])\n",
    "path_b = os.sep.join([datasets_path, 'B.csv'])\n",
    "path_c = os.sep.join([datasets_path, 'C.csv'])"
   ]
  },
  {
   "cell_type": "code",
   "execution_count": 5,
   "metadata": {
    "collapsed": true
   },
   "outputs": [],
   "source": [
    "A = mg.read_csv_metadata(path_a)\n",
    "B = mg.read_csv_metadata(path_b, key='ID')\n",
    "C = mg.read_csv_metadata(path_c, ltable=A, rtable=B)"
   ]
  },
  {
   "cell_type": "code",
   "execution_count": 6,
   "metadata": {
    "collapsed": false
   },
   "outputs": [
    {
     "name": "stderr",
     "output_type": "stream",
     "text": [
      "/Users/pradap/anaconda3/lib/python3.5/site-packages/ipykernel/__main__.py:6: SettingWithCopyWarning: \n",
      "A value is trying to be set on a copy of a slice from a DataFrame.\n",
      "Try using .loc[row_indexer,col_indexer] = value instead\n",
      "\n",
      "See the caveats in the documentation: http://pandas.pydata.org/pandas-docs/stable/indexing.html#indexing-view-versus-copy\n",
      "/Users/pradap/anaconda3/lib/python3.5/site-packages/ipykernel/__main__.py:8: SettingWithCopyWarning: \n",
      "A value is trying to be set on a copy of a slice from a DataFrame.\n",
      "Try using .loc[row_indexer,col_indexer] = value instead\n",
      "\n",
      "See the caveats in the documentation: http://pandas.pydata.org/pandas-docs/stable/indexing.html#indexing-view-versus-copy\n"
     ]
    },
    {
     "data": {
      "text/plain": [
       "True"
      ]
     },
     "execution_count": 6,
     "metadata": {},
     "output_type": "execute_result"
    }
   ],
   "source": [
    "C1 = C[['_id', 'ltable_ID', 'rtable_ID']]\n",
    "num_ones = 1\n",
    "num_zeros = len(C1) - num_ones\n",
    "gold = [0]*num_ones\n",
    "gold.extend([1]*num_zeros)\n",
    "C1['gold'] = 0\n",
    "C1['gold'] = gold\n",
    "predicted = [1]* (num_zeros + num_ones)\n",
    "C1['predicted'] = 0\n",
    "C1['predicted'] = predicted\n",
    "cm.copy_properties(C, C1)"
   ]
  },
  {
   "cell_type": "code",
   "execution_count": 9,
   "metadata": {
    "collapsed": false
   },
   "outputs": [],
   "source": [
    "results = mg.eval_matches(C1, 'gold', 'predicted')"
   ]
  },
  {
   "cell_type": "code",
   "execution_count": 10,
   "metadata": {
    "collapsed": false
   },
   "outputs": [
    {
     "data": {
      "text/plain": [
       "odict_keys(['prec_numerator', 'prec_denominator', 'precision', 'recall_numerator', 'recall_denominator', 'recall', 'f1', 'pred_pos_num', 'false_pos_num', 'false_pos_ls', 'pred_neg_num', 'false_neg_num', 'false_neg_ls'])"
      ]
     },
     "execution_count": 10,
     "metadata": {},
     "output_type": "execute_result"
    }
   ],
   "source": [
    "results.keys()"
   ]
  },
  {
   "cell_type": "code",
   "execution_count": 11,
   "metadata": {
    "collapsed": true
   },
   "outputs": [],
   "source": [
    "import six"
   ]
  },
  {
   "cell_type": "code",
   "execution_count": 12,
   "metadata": {
    "collapsed": false
   },
   "outputs": [
    {
     "name": "stdout",
     "output_type": "stream",
     "text": [
      "prec_numerator\n",
      "14.0\n",
      "prec_denominator\n",
      "15.0\n",
      "precision\n",
      "0.9333333333333333\n",
      "recall_numerator\n",
      "14.0\n",
      "recall_denominator\n",
      "14.0\n",
      "recall\n",
      "1.0\n",
      "f1\n",
      "0.9655172413793104\n",
      "pred_pos_num\n",
      "15.0\n",
      "false_pos_num\n",
      "1.0\n",
      "false_pos_ls\n",
      "[('a1', 'b1')]\n",
      "pred_neg_num\n",
      "0.0\n",
      "false_neg_num\n",
      "0.0\n",
      "false_neg_ls\n",
      "[]\n"
     ]
    }
   ],
   "source": [
    "for k, v in six.iteritems(results):\n",
    "    print(k), print(v)\n",
    "    "
   ]
  },
  {
   "cell_type": "code",
   "execution_count": 14,
   "metadata": {
    "collapsed": true
   },
   "outputs": [],
   "source": [
    "results = mg.eval_matches(C1, 'predicted', 'gold')"
   ]
  },
  {
   "cell_type": "code",
   "execution_count": 15,
   "metadata": {
    "collapsed": false
   },
   "outputs": [
    {
     "name": "stdout",
     "output_type": "stream",
     "text": [
      "prec_numerator\n",
      "14.0\n",
      "prec_denominator\n",
      "14.0\n",
      "precision\n",
      "1.0\n",
      "recall_numerator\n",
      "14.0\n",
      "recall_denominator\n",
      "15.0\n",
      "recall\n",
      "0.9333333333333333\n",
      "f1\n",
      "0.9655172413793104\n",
      "pred_pos_num\n",
      "14.0\n",
      "false_pos_num\n",
      "0.0\n",
      "false_pos_ls\n",
      "[]\n",
      "pred_neg_num\n",
      "1.0\n",
      "false_neg_num\n",
      "1.0\n",
      "false_neg_ls\n",
      "[('a1', 'b1')]\n"
     ]
    }
   ],
   "source": [
    "for k, v in six.iteritems(results):\n",
    "    print(k), print(v)\n",
    "    "
   ]
  }
 ],
 "metadata": {
  "kernelspec": {
   "display_name": "Python 3",
   "language": "python",
   "name": "python3"
  },
  "language_info": {
   "codemirror_mode": {
    "name": "ipython",
    "version": 3
   },
   "file_extension": ".py",
   "mimetype": "text/x-python",
   "name": "python",
   "nbconvert_exporter": "python",
   "pygments_lexer": "ipython3",
   "version": "3.5.1"
  }
 },
 "nbformat": 4,
 "nbformat_minor": 0
}
